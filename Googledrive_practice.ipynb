{
  "nbformat": 4,
  "nbformat_minor": 0,
  "metadata": {
    "colab": {
      "provenance": [],
      "authorship_tag": "ABX9TyPq+WBU5ojY5T+hdwjj9GAr",
      "include_colab_link": true
    },
    "kernelspec": {
      "name": "python3",
      "display_name": "Python 3"
    },
    "language_info": {
      "name": "python"
    }
  },
  "cells": [
    {
      "cell_type": "markdown",
      "metadata": {
        "id": "view-in-github",
        "colab_type": "text"
      },
      "source": [
        "<a href=\"https://colab.research.google.com/github/murillocosta/python/blob/main/Googledrive_practice.ipynb\" target=\"_parent\"><img src=\"https://colab.research.google.com/assets/colab-badge.svg\" alt=\"Open In Colab\"/></a>"
      ]
    },
    {
      "cell_type": "code",
      "execution_count": 2,
      "metadata": {
        "colab": {
          "base_uri": "https://localhost:8080/"
        },
        "id": "FXfu6WfTK_XF",
        "outputId": "aadb5d3e-32d2-45f3-cb74-2b7a7ab0b21a"
      },
      "outputs": [
        {
          "output_type": "stream",
          "name": "stdout",
          "text": [
            "Mounted at /content/gdrive/\n"
          ]
        }
      ],
      "source": [
        "#@title Acessando google drive\n",
        "from google.colab import drive\n",
        "\n",
        "# montando drive\n",
        "drive.mount('/content/gdrive/')"
      ]
    },
    {
      "cell_type": "code",
      "source": [
        "# listando arquivos\n",
        "!ls 'gdrive/My Drive/'"
      ],
      "metadata": {
        "colab": {
          "base_uri": "https://localhost:8080/"
        },
        "id": "rd2-ERM1LJOp",
        "outputId": "c5554682-0459-46b9-be19-047f4a0ae5a3"
      },
      "execution_count": 3,
      "outputs": [
        {
          "output_type": "stream",
          "name": "stdout",
          "text": [
            " 06-2022-Certificados.rar\n",
            " 07-2022-Certificados.rar\n",
            " 10-2022-Certificados.rar\n",
            " 1CB49465-C115-4D88-86CC-868C34E0EDFA.JPG\n",
            " 9767EB07-C432-4C82-B04D-E94D7876F5F6.JPG\n",
            "'Certificados identificadosV2 (1).rar'\n",
            "'Colab Notebooks'\n",
            "'Cópia de Curriculo - Murillo de Alencar (1).pdf'\n",
            "'Cópia de Curriculo - Murillo de Alencar.gdoc'\n",
            "'Cópia de Curriculo - Murillo de Alencar.pdf'\n",
            "'Curriculo - Murillo de Alencar.gdoc'\n",
            "'Curriculo - Murillo de Alencar.pdf'\n",
            " F8AD4401-7868-4CBB-8E4D-78195BECC006.JPG\n",
            " Fotos-Itacare-2019_20.zip\n",
            " IMG_1036.MOV\n",
            " IMG_1182.MOV\n",
            "'murillocosta-cv (1).gdoc'\n",
            " murillocosta-cv.gdoc\n",
            " murillocosta-cv.pdf\n",
            " MurilloCosta-CV.pdf\n",
            "'MURILLO COSTA - Programa de Formação Season 04.pdf'\n"
          ]
        }
      ]
    },
    {
      "cell_type": "code",
      "source": [
        "# lendo arquivo\n",
        "with open('/content/gdrive/MyDrive/Teste.txt', 'r') as curriculo:\n",
        "  print(curriculo.read())"
      ],
      "metadata": {
        "colab": {
          "base_uri": "https://localhost:8080/"
        },
        "id": "1YZTvBZoMDoc",
        "outputId": "d80abb81-398f-466f-b775-28f80f09d2e6"
      },
      "execution_count": 7,
      "outputs": [
        {
          "output_type": "stream",
          "name": "stdout",
          "text": [
            "Teste de Leitura de arquivos do google drive com Python!\n"
          ]
        }
      ]
    },
    {
      "cell_type": "code",
      "source": [],
      "metadata": {
        "id": "1gDSgyAJMv3x"
      },
      "execution_count": null,
      "outputs": []
    }
  ]
}