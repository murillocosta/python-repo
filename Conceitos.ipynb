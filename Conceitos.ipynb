{
  "nbformat": 4,
  "nbformat_minor": 0,
  "metadata": {
    "colab": {
      "provenance": [],
      "authorship_tag": "ABX9TyON5+x+CcvG9L6EHtI3SPxg",
      "include_colab_link": true
    },
    "kernelspec": {
      "name": "python3",
      "display_name": "Python 3"
    },
    "language_info": {
      "name": "python"
    }
  },
  "cells": [
    {
      "cell_type": "markdown",
      "metadata": {
        "id": "view-in-github",
        "colab_type": "text"
      },
      "source": [
        "<a href=\"https://colab.research.google.com/github/murillocosta/python/blob/main/Conceitos.ipynb\" target=\"_parent\"><img src=\"https://colab.research.google.com/assets/colab-badge.svg\" alt=\"Open In Colab\"/></a>"
      ]
    },
    {
      "cell_type": "markdown",
      "source": [
        "\n",
        "# Operadores Aritméticos (Exercícios)"
      ],
      "metadata": {
        "id": "kh0XDGuhAboW"
      }
    },
    {
      "cell_type": "code",
      "execution_count": 10,
      "metadata": {
        "id": "r9tzPO0wudMc",
        "colab": {
          "base_uri": "https://localhost:8080/"
        },
        "outputId": "7babadb2-56bf-4212-f39a-502a94f56208"
      },
      "outputs": [
        {
          "output_type": "stream",
          "name": "stdout",
          "text": [
            "19\n"
          ]
        }
      ],
      "source": [
        "# x = 15 - 5 + 3²\n",
        "x = 15 - 5 + (3**2)\n",
        "print(x)"
      ]
    },
    {
      "cell_type": "code",
      "source": [
        "# y = 20 + 5 / 7 ∗ 9\n",
        "y = 20 + ((5/7) * 9)\n",
        "print(y)"
      ],
      "metadata": {
        "colab": {
          "base_uri": "https://localhost:8080/"
        },
        "id": "tAX8uDYs-vxY",
        "outputId": "64bc568c-345d-4556-d16d-9e13030770ad"
      },
      "execution_count": 11,
      "outputs": [
        {
          "output_type": "stream",
          "name": "stdout",
          "text": [
            "26.42857142857143\n"
          ]
        }
      ]
    },
    {
      "cell_type": "code",
      "source": [
        "# z = 17 ∗ 3 − 4²/ 3\n",
        "z = (17 * 3) - ((4**2)/3)\n",
        "print(z)"
      ],
      "metadata": {
        "colab": {
          "base_uri": "https://localhost:8080/"
        },
        "id": "2vZ4bper_faA",
        "outputId": "905474d7-96b7-4eb4-a629-591692f8d2f1"
      },
      "execution_count": 13,
      "outputs": [
        {
          "output_type": "stream",
          "name": "stdout",
          "text": [
            "45.666666666666664\n"
          ]
        }
      ]
    },
    {
      "cell_type": "markdown",
      "source": [
        "# Tipos de variáveis"
      ],
      "metadata": {
        "id": "On21CVDlBII0"
      }
    },
    {
      "cell_type": "code",
      "source": [
        "eu = 'Murillo de Alencar \\n'\n",
        "print(eu)\n",
        "\n",
        "# função type\n",
        "print(type(eu))"
      ],
      "metadata": {
        "colab": {
          "base_uri": "https://localhost:8080/"
        },
        "id": "-8xw_xui_0TQ",
        "outputId": "26839564-bedc-4b8b-b744-98cd1bd46518"
      },
      "execution_count": 22,
      "outputs": [
        {
          "output_type": "stream",
          "name": "stdout",
          "text": [
            "Murillo de Alencar \n",
            "\n",
            "<class 'str'>\n"
          ]
        }
      ]
    },
    {
      "cell_type": "code",
      "source": [
        "idade = 33\n",
        "type(idade)"
      ],
      "metadata": {
        "id": "W5HrwBFtAZUz",
        "colab": {
          "base_uri": "https://localhost:8080/"
        },
        "outputId": "dc9ad0b1-9541-41d2-91f1-1534e787c44b"
      },
      "execution_count": 16,
      "outputs": [
        {
          "output_type": "execute_result",
          "data": {
            "text/plain": [
              "int"
            ]
          },
          "metadata": {},
          "execution_count": 16
        }
      ]
    },
    {
      "cell_type": "code",
      "source": [
        "chocolate = 5.90\n",
        "type(chocolate)"
      ],
      "metadata": {
        "colab": {
          "base_uri": "https://localhost:8080/"
        },
        "id": "QV6zLcZdEbHU",
        "outputId": "391f64f1-9431-4fd9-dec9-4baeed10f25d"
      },
      "execution_count": 17,
      "outputs": [
        {
          "output_type": "execute_result",
          "data": {
            "text/plain": [
              "float"
            ]
          },
          "metadata": {},
          "execution_count": 17
        }
      ]
    },
    {
      "cell_type": "code",
      "source": [
        "#@title Solução\n",
        "x = 2022 - 1989\n",
        "x"
      ],
      "metadata": {
        "colab": {
          "base_uri": "https://localhost:8080/"
        },
        "id": "RhTGmOSZErev",
        "outputId": "7096cdb8-7cf5-428e-d244-0fa1543c02e2"
      },
      "execution_count": 19,
      "outputs": [
        {
          "output_type": "execute_result",
          "data": {
            "text/plain": [
              "33"
            ]
          },
          "metadata": {},
          "execution_count": 19
        }
      ]
    },
    {
      "cell_type": "code",
      "source": [
        "nome10 = eu * 10\n",
        "print(nome10)\n"
      ],
      "metadata": {
        "colab": {
          "base_uri": "https://localhost:8080/"
        },
        "id": "8LkYL8ghE5L4",
        "outputId": "52353cf3-d943-4379-83cb-1abd3f84b406"
      },
      "execution_count": 23,
      "outputs": [
        {
          "output_type": "stream",
          "name": "stdout",
          "text": [
            "Murillo de Alencar \n",
            "Murillo de Alencar \n",
            "Murillo de Alencar \n",
            "Murillo de Alencar \n",
            "Murillo de Alencar \n",
            "Murillo de Alencar \n",
            "Murillo de Alencar \n",
            "Murillo de Alencar \n",
            "Murillo de Alencar \n",
            "Murillo de Alencar \n",
            "\n"
          ]
        }
      ]
    },
    {
      "cell_type": "markdown",
      "source": [
        "### Divisão sempre vai retornar FLOAT como resultado"
      ],
      "metadata": {
        "id": "d8tnpmzLGSSc"
      }
    },
    {
      "cell_type": "code",
      "source": [
        "# Converter float em int\n",
        "\n",
        "preco = 3.50\n",
        "preco = int(preco)\n",
        "type(preco)"
      ],
      "metadata": {
        "colab": {
          "base_uri": "https://localhost:8080/"
        },
        "id": "rJ7F6flLGcIV",
        "outputId": "f40667bb-944c-462c-f27b-a269d54fd543"
      },
      "execution_count": 25,
      "outputs": [
        {
          "output_type": "execute_result",
          "data": {
            "text/plain": [
              "int"
            ]
          },
          "metadata": {},
          "execution_count": 25
        }
      ]
    },
    {
      "cell_type": "code",
      "source": [
        "# converter int em float\n",
        "numero = 3\n",
        "numero = float(numero)\n",
        "type(numero)"
      ],
      "metadata": {
        "colab": {
          "base_uri": "https://localhost:8080/"
        },
        "id": "BcwQ5x88Gp4X",
        "outputId": "e1243adc-1364-49ba-be3e-98a1ad815369"
      },
      "execution_count": 27,
      "outputs": [
        {
          "output_type": "execute_result",
          "data": {
            "text/plain": [
              "float"
            ]
          },
          "metadata": {},
          "execution_count": 27
        }
      ]
    },
    {
      "cell_type": "code",
      "source": [
        "x = int(25 / 5)\n",
        "x"
      ],
      "metadata": {
        "colab": {
          "base_uri": "https://localhost:8080/"
        },
        "id": "5dBkxFd-G0nX",
        "outputId": "5e29c4d1-51d8-4275-ddaf-ccdeeaebce63"
      },
      "execution_count": 29,
      "outputs": [
        {
          "output_type": "execute_result",
          "data": {
            "text/plain": [
              "5"
            ]
          },
          "metadata": {},
          "execution_count": 29
        }
      ]
    },
    {
      "cell_type": "code",
      "source": [
        "# variáveis\n",
        "x = 33\n",
        "y = 33/3\n",
        "z = 33.5\n",
        "\n",
        "print('x: ', type(x))\n",
        "print('y: ', type(y))\n",
        "print('z: ', type(z))"
      ],
      "metadata": {
        "colab": {
          "base_uri": "https://localhost:8080/"
        },
        "id": "Sj91zrO7HFn2",
        "outputId": "f3feb03e-18f7-475d-8637-a76196f5203f"
      },
      "execution_count": 31,
      "outputs": [
        {
          "output_type": "stream",
          "name": "stdout",
          "text": [
            "x:  <class 'int'>\n",
            "y:  <class 'float'>\n",
            "z:  <class 'float'>\n"
          ]
        }
      ]
    },
    {
      "cell_type": "code",
      "source": [
        "y = int(y)\n",
        "z = int(z)\n",
        "x = int(x)\n",
        "\n",
        "print(x)\n",
        "print(y)\n",
        "print(z)"
      ],
      "metadata": {
        "colab": {
          "base_uri": "https://localhost:8080/"
        },
        "id": "hQB1Qns0HQAO",
        "outputId": "d5f56292-ba84-4dc0-f930-fa22a394d642"
      },
      "execution_count": 34,
      "outputs": [
        {
          "output_type": "stream",
          "name": "stdout",
          "text": [
            "33\n",
            "11\n",
            "33\n"
          ]
        }
      ]
    },
    {
      "cell_type": "code",
      "source": [
        "y = float(y)\n",
        "z = float(z)\n",
        "x = float(x)\n",
        "\n",
        "print(x)\n",
        "print(y)\n",
        "print(z)"
      ],
      "metadata": {
        "colab": {
          "base_uri": "https://localhost:8080/"
        },
        "id": "UI5Y23meHcAU",
        "outputId": "57fc3169-c5fb-4921-ae02-629dbf2b26a4"
      },
      "execution_count": 35,
      "outputs": [
        {
          "output_type": "stream",
          "name": "stdout",
          "text": [
            "33.0\n",
            "11.0\n",
            "33.0\n"
          ]
        }
      ]
    },
    {
      "cell_type": "code",
      "source": [],
      "metadata": {
        "id": "5PkPN7rfHqxA"
      },
      "execution_count": null,
      "outputs": []
    }
  ]
}