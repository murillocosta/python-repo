{
  "nbformat": 4,
  "nbformat_minor": 0,
  "metadata": {
    "colab": {
      "provenance": [],
      "mount_file_id": "1wEKnNiBCwTi23vABTpW9AEB4h6a0yz8k",
      "authorship_tag": "ABX9TyNMOQQr81izbFEZ9izIjhf0",
      "include_colab_link": true
    },
    "kernelspec": {
      "name": "python3",
      "display_name": "Python 3"
    },
    "language_info": {
      "name": "python"
    }
  },
  "cells": [
    {
      "cell_type": "markdown",
      "metadata": {
        "id": "view-in-github",
        "colab_type": "text"
      },
      "source": [
        "<a href=\"https://colab.research.google.com/github/murillocosta/python/blob/main/arquivos_pdf.ipynb\" target=\"_parent\"><img src=\"https://colab.research.google.com/assets/colab-badge.svg\" alt=\"Open In Colab\"/></a>"
      ]
    },
    {
      "cell_type": "markdown",
      "source": [
        "## Extraindo informações de PDF\n"
      ],
      "metadata": {
        "id": "RONcEoQkWmlf"
      }
    },
    {
      "cell_type": "code",
      "source": [
        "# instalando a biblioteca\n",
        "!pip install pdfplumber"
      ],
      "metadata": {
        "colab": {
          "base_uri": "https://localhost:8080/"
        },
        "id": "Bk2l975IXJlT",
        "outputId": "d5dcf4f1-bb2b-4e4d-8ea4-19a174519083"
      },
      "execution_count": 3,
      "outputs": [
        {
          "output_type": "stream",
          "name": "stdout",
          "text": [
            "Looking in indexes: https://pypi.org/simple, https://us-python.pkg.dev/colab-wheels/public/simple/\n",
            "Requirement already satisfied: pdfplumber in /usr/local/lib/python3.7/dist-packages (0.7.6)\n",
            "Requirement already satisfied: Pillow>=9.1 in /usr/local/lib/python3.7/dist-packages (from pdfplumber) (9.3.0)\n",
            "Requirement already satisfied: pdfminer.six==20221105 in /usr/local/lib/python3.7/dist-packages (from pdfplumber) (20221105)\n",
            "Requirement already satisfied: Wand>=0.6.10 in /usr/local/lib/python3.7/dist-packages (from pdfplumber) (0.6.10)\n",
            "Requirement already satisfied: cryptography>=36.0.0 in /usr/local/lib/python3.7/dist-packages (from pdfminer.six==20221105->pdfplumber) (38.0.4)\n",
            "Requirement already satisfied: typing-extensions in /usr/local/lib/python3.7/dist-packages (from pdfminer.six==20221105->pdfplumber) (4.1.1)\n",
            "Requirement already satisfied: charset-normalizer>=2.0.0 in /usr/local/lib/python3.7/dist-packages (from pdfminer.six==20221105->pdfplumber) (2.1.1)\n",
            "Requirement already satisfied: cffi>=1.12 in /usr/local/lib/python3.7/dist-packages (from cryptography>=36.0.0->pdfminer.six==20221105->pdfplumber) (1.15.1)\n",
            "Requirement already satisfied: pycparser in /usr/local/lib/python3.7/dist-packages (from cffi>=1.12->cryptography>=36.0.0->pdfminer.six==20221105->pdfplumber) (2.21)\n"
          ]
        }
      ]
    },
    {
      "cell_type": "code",
      "source": [
        "# importando os pacotes necessários\n",
        "import pdfplumber\n",
        "import os\n",
        "from google.colab import drive"
      ],
      "metadata": {
        "id": "QMN9fcOcXMh_"
      },
      "execution_count": 4,
      "outputs": []
    },
    {
      "cell_type": "code",
      "source": [
        "drive.mount('/content/gdrive')"
      ],
      "metadata": {
        "id": "7B0Lw4XLXuKe",
        "colab": {
          "base_uri": "https://localhost:8080/"
        },
        "outputId": "4ff21cfc-ab4a-4606-ee00-0716024f31fa"
      },
      "execution_count": 7,
      "outputs": [
        {
          "output_type": "stream",
          "name": "stdout",
          "text": [
            "Mounted at /content/gdrive\n"
          ]
        }
      ]
    },
    {
      "cell_type": "code",
      "source": [
        "!ls '/content/gdrive/My Drive'"
      ],
      "metadata": {
        "colab": {
          "base_uri": "https://localhost:8080/"
        },
        "id": "xY0ovrYbZTXK",
        "outputId": "931eb3aa-8f17-412e-9a3b-f9890f2e2b6b"
      },
      "execution_count": 8,
      "outputs": [
        {
          "output_type": "stream",
          "name": "stdout",
          "text": [
            " 06-2022-Certificados.rar\n",
            " 07-2022-Certificados.rar\n",
            " 10-2022-Certificados.rar\n",
            " 1CB49465-C115-4D88-86CC-868C34E0EDFA.JPG\n",
            " 9767EB07-C432-4C82-B04D-E94D7876F5F6.JPG\n",
            "'Certificados identificadosV2 (1).rar'\n",
            "'Colab Notebooks'\n",
            "'Cópia de Curriculo - Murillo de Alencar (1).pdf'\n",
            "'Cópia de Curriculo - Murillo de Alencar.gdoc'\n",
            "'Cópia de Curriculo - Murillo de Alencar.pdf'\n",
            "'Curriculo - Murillo de Alencar.gdoc'\n",
            "'Curriculo - Murillo de Alencar.pdf'\n",
            " F8AD4401-7868-4CBB-8E4D-78195BECC006.JPG\n",
            " Fotos-Itacare-2019_20.zip\n",
            " IMG_1036.MOV\n",
            " IMG_1182.MOV\n",
            " modelo_de_relatorio.pdf\n",
            "'murillocosta-cv (1).gdoc'\n",
            " murillocosta-cv.gdoc\n",
            " murillocosta-cv.pdf\n",
            " MurilloCosta-CV.pdf\n",
            "'MURILLO COSTA - Programa de Formação Season 04.pdf'\n",
            "'Orçamento (File responses)'\n",
            " wp2146169-psychedelic-art-hd-wallpapers.jpg\n"
          ]
        }
      ]
    },
    {
      "cell_type": "code",
      "source": [
        "# abrindo o documento\n",
        "pdf = pdfplumber.open('/content/gdrive/My Drive/modelo_de_relatorio.pdf')"
      ],
      "metadata": {
        "id": "WE5TfZjDZojf"
      },
      "execution_count": 9,
      "outputs": []
    },
    {
      "cell_type": "code",
      "source": [
        "# verificar numero de paginas\n",
        "pdf.pages"
      ],
      "metadata": {
        "colab": {
          "base_uri": "https://localhost:8080/"
        },
        "id": "iTxsXy9LaFPt",
        "outputId": "4f6d584b-325c-4953-e947-b8b038159c6d"
      },
      "execution_count": 11,
      "outputs": [
        {
          "output_type": "execute_result",
          "data": {
            "text/plain": [
              "[<Page:1>, <Page:2>, <Page:3>]"
            ]
          },
          "metadata": {},
          "execution_count": 11
        }
      ]
    },
    {
      "cell_type": "code",
      "source": [
        "# acessando primeira página\n",
        "page = pdf.pages[0]\n",
        "page"
      ],
      "metadata": {
        "colab": {
          "base_uri": "https://localhost:8080/"
        },
        "id": "YIe5iwIgaPil",
        "outputId": "4f6379fc-746c-4f9c-d0f8-3d5c522b7302"
      },
      "execution_count": 14,
      "outputs": [
        {
          "output_type": "execute_result",
          "data": {
            "text/plain": [
              "<Page:1>"
            ]
          },
          "metadata": {},
          "execution_count": 14
        }
      ]
    },
    {
      "cell_type": "code",
      "source": [
        "# extraindo o texto do arquivo\n",
        "text = page.extract_text()\n",
        "print(text)"
      ],
      "metadata": {
        "colab": {
          "base_uri": "https://localhost:8080/"
        },
        "id": "5kQO81-4aWjd",
        "outputId": "c73361c5-5d68-4c04-afb1-141a3613f42a"
      },
      "execution_count": 15,
      "outputs": [
        {
          "output_type": "stream",
          "name": "stdout",
          "text": [
            "SIGMOIDAL \n",
            "   \n",
            "Relatório Diário \n",
            " \n",
            "Data: 10/08/2020 \n",
            " \n",
            "RECEITA: R$ 1.397,00 \n",
            "DADOS ATUALIZADOS POR CARLOS MELO\n",
            " \n",
            " \n",
            " Visitantes: 1367 \n",
            "A quantidade de visitantes diz respeito a visitantes únicos visitando qualquer \n",
            "página do domínio ou subdomínio sigmoidal.ai. Compreende, então, cursos, \n",
            "blogs e landing pages. \n",
            " Inscritos: 33 \n",
            "É considerado aqui o número de leads gerados por meio de cadastro \n",
            "voluntário nos formulários do cabeçalho, rodapé ou materiais ricos (como \n",
            "eBook, infográficos, entre outros). \n",
            " Assinantes: 6 \n",
            "Clientes assinantes da Escola de Data Science, considerando-se o plano \n",
            "renovável de assinatura mensal. \n",
            " \n",
            " \n",
            "Murillo de Alencar Leite Costa - murilloalcosta@gmail.com - IP: 179.222.157.42\n"
          ]
        }
      ]
    },
    {
      "cell_type": "code",
      "source": [
        "# coletando metadados do arquivo\n",
        "metadata = pdf.metadata\n",
        "print(metadata)"
      ],
      "metadata": {
        "colab": {
          "base_uri": "https://localhost:8080/"
        },
        "id": "4wRHQKCnatyN",
        "outputId": "b6d8e54b-dfec-48fa-cd9c-280170a72f86"
      },
      "execution_count": 16,
      "outputs": [
        {
          "output_type": "stream",
          "name": "stdout",
          "text": [
            "{'AssetID': 'TF10002026', 'Author': 'Carlos Melo', 'Comments': '', 'Company': '', 'CreationDate': 'D:20200831180053Z', 'Creator': 'Acrobat PDFMaker 20 for Word', 'Keywords': 'report, vendas, sigmoidal, diário, relatório', 'ModDate': 'D:20221211224918', 'Producer': 'HexaPDF version 0.27.0', 'SourceModified': 'D:20200831180051', 'Subject': 'Template para relatório diário', 'Title': 'Relatório Sigmoidal'}\n"
          ]
        }
      ]
    },
    {
      "cell_type": "code",
      "source": [],
      "metadata": {
        "id": "ImAd1txHb0xl"
      },
      "execution_count": null,
      "outputs": []
    }
  ]
}