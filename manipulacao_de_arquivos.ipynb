{
  "nbformat": 4,
  "nbformat_minor": 0,
  "metadata": {
    "colab": {
      "provenance": [],
      "mount_file_id": "1RlPqdZGEK3gdo2hf2i4fmQ7CIhaPro3L",
      "authorship_tag": "ABX9TyMh3s3EcAc6N1edeY89NpeA",
      "include_colab_link": true
    },
    "kernelspec": {
      "name": "python3",
      "display_name": "Python 3"
    },
    "language_info": {
      "name": "python"
    }
  },
  "cells": [
    {
      "cell_type": "markdown",
      "metadata": {
        "id": "view-in-github",
        "colab_type": "text"
      },
      "source": [
        "<a href=\"https://colab.research.google.com/github/murillocosta/python/blob/main/manipulacao_de_arquivos.ipynb\" target=\"_parent\"><img src=\"https://colab.research.google.com/assets/colab-badge.svg\" alt=\"Open In Colab\"/></a>"
      ]
    },
    {
      "cell_type": "code",
      "source": [
        "# import os package\n",
        "\n",
        "import os"
      ],
      "metadata": {
        "id": "mG9dEBmxS_K_"
      },
      "execution_count": null,
      "outputs": []
    },
    {
      "cell_type": "code",
      "execution_count": 9,
      "metadata": {
        "id": "p7PNTB-JR04f"
      },
      "outputs": [],
      "source": [
        "#@title Criando arquivos\n",
        "arquivo = 'arquivo.txt'\n",
        "os.chdir(\"/content/sample_data\")"
      ]
    },
    {
      "cell_type": "code",
      "source": [
        "file = open(arquivo, 'w')\n",
        "file.write('Teste de manipulação de arquivos')\n",
        "file.close()"
      ],
      "metadata": {
        "id": "AV2pamBoSnuc"
      },
      "execution_count": 10,
      "outputs": []
    },
    {
      "cell_type": "code",
      "source": [
        "os.listdir()"
      ],
      "metadata": {
        "colab": {
          "base_uri": "https://localhost:8080/"
        },
        "id": "MfDULOIzS2ku",
        "outputId": "7805b446-8c47-497c-ce07-c90444cac0c7"
      },
      "execution_count": 11,
      "outputs": [
        {
          "output_type": "execute_result",
          "data": {
            "text/plain": [
              "['README.md',\n",
              " 'anscombe.json',\n",
              " 'arquivo.txt',\n",
              " 'mnist_train_small.csv',\n",
              " 'mnist_test.csv',\n",
              " 'california_housing_test.csv',\n",
              " 'california_housing_train.csv']"
            ]
          },
          "metadata": {},
          "execution_count": 11
        }
      ]
    },
    {
      "cell_type": "code",
      "source": [
        "texto = open('arquivo.txt', 'r')\n",
        "print(texto.read())\n",
        "texto.close()"
      ],
      "metadata": {
        "colab": {
          "base_uri": "https://localhost:8080/"
        },
        "id": "ZwOsMTNiS7NO",
        "outputId": "499e0e26-0aef-42a7-ffe3-259d16be3376"
      },
      "execution_count": 17,
      "outputs": [
        {
          "output_type": "stream",
          "name": "stdout",
          "text": [
            "Teste de manipulação de arquivos\n"
          ]
        }
      ]
    },
    {
      "cell_type": "code",
      "source": [
        "with open('test.txt', 'w') as txt:\n",
        "  txt.write(\"testando a função\")"
      ],
      "metadata": {
        "id": "xFZLhorKU79Y"
      },
      "execution_count": 18,
      "outputs": []
    },
    {
      "cell_type": "code",
      "source": [
        "with open('test.txt', 'a') as txt:\n",
        "  txt.write('\\n Novas informações')"
      ],
      "metadata": {
        "id": "uEVfuUvySs-4"
      },
      "execution_count": 21,
      "outputs": []
    },
    {
      "cell_type": "code",
      "source": [
        "with open('test.txt', 'r') as txt:\n",
        "  print(txt.read())"
      ],
      "metadata": {
        "colab": {
          "base_uri": "https://localhost:8080/"
        },
        "id": "CMJSnMGOS8N9",
        "outputId": "956667e2-4217-4046-c6ac-1be32df3f3d6"
      },
      "execution_count": 22,
      "outputs": [
        {
          "output_type": "stream",
          "name": "stdout",
          "text": [
            "testando a função\n",
            " Novas informações\n"
          ]
        }
      ]
    },
    {
      "cell_type": "code",
      "source": [
        "teste = 'test.txt'\n",
        "os.rename(teste, 'file.txt')"
      ],
      "metadata": {
        "id": "t-8CLIQdTE1k"
      },
      "execution_count": 23,
      "outputs": []
    },
    {
      "cell_type": "markdown",
      "source": [
        "### Exercícios\n"
      ],
      "metadata": {
        "id": "jhCWrefLTvre"
      }
    },
    {
      "cell_type": "code",
      "source": [
        "import os"
      ],
      "metadata": {
        "id": "Ot5os2wfT1I8"
      },
      "execution_count": 24,
      "outputs": []
    },
    {
      "cell_type": "code",
      "source": [
        "os.getcwd()"
      ],
      "metadata": {
        "colab": {
          "base_uri": "https://localhost:8080/",
          "height": 35
        },
        "id": "FtpiTQZMT6sO",
        "outputId": "98a152b1-4c42-45dd-f210-390dfe9a5661"
      },
      "execution_count": 25,
      "outputs": [
        {
          "output_type": "execute_result",
          "data": {
            "text/plain": [
              "'/content/sample_data'"
            ],
            "application/vnd.google.colaboratory.intrinsic+json": {
              "type": "string"
            }
          },
          "metadata": {},
          "execution_count": 25
        }
      ]
    },
    {
      "cell_type": "code",
      "source": [
        "os.listdir()"
      ],
      "metadata": {
        "colab": {
          "base_uri": "https://localhost:8080/"
        },
        "id": "rEMQM1VeT-xp",
        "outputId": "5acb5bcd-bed1-46dc-d015-b14bb365f240"
      },
      "execution_count": 28,
      "outputs": [
        {
          "output_type": "execute_result",
          "data": {
            "text/plain": [
              "['README.md',\n",
              " 'anscombe.json',\n",
              " 'file.txt',\n",
              " 'arquivo.txt',\n",
              " '.ipynb_checkpoints',\n",
              " 'mnist_train_small.csv',\n",
              " 'mnist_test.csv',\n",
              " 'california_housing_test.csv',\n",
              " 'california_housing_train.csv']"
            ]
          },
          "metadata": {},
          "execution_count": 28
        }
      ]
    },
    {
      "cell_type": "code",
      "source": [
        "aluno = 'aluno.txt'\n",
        "with open(aluno, 'w') as file:\n",
        "  file.write('Murillo')\n",
        "  \n",
        "  \n"
      ],
      "metadata": {
        "id": "Udryu0ikUBuq"
      },
      "execution_count": 32,
      "outputs": []
    },
    {
      "cell_type": "code",
      "source": [
        "with open(aluno, 'a') as file:\n",
        "  file.write('\\nProgramador, 33 anos')"
      ],
      "metadata": {
        "id": "5odayHFxUXS1"
      },
      "execution_count": 34,
      "outputs": []
    },
    {
      "cell_type": "code",
      "source": [
        "with open(aluno, 'r') as file:\n",
        "  print(file.read())"
      ],
      "metadata": {
        "colab": {
          "base_uri": "https://localhost:8080/"
        },
        "id": "M8ZIMNXmU3kv",
        "outputId": "885c6dbb-cbbf-497f-8b97-1801ca2e3c8f"
      },
      "execution_count": 35,
      "outputs": [
        {
          "output_type": "stream",
          "name": "stdout",
          "text": [
            "Murillo\n",
            "Programador, 33 anos\n",
            "Programador, 33 anos\n"
          ]
        }
      ]
    },
    {
      "cell_type": "code",
      "source": [
        "os.rename(aluno, 'sigmoidal.txt')"
      ],
      "metadata": {
        "id": "eNCaffu3VKMN"
      },
      "execution_count": 36,
      "outputs": []
    },
    {
      "cell_type": "code",
      "source": [
        "os.listdir()"
      ],
      "metadata": {
        "colab": {
          "base_uri": "https://localhost:8080/"
        },
        "id": "snltQyC3VYIJ",
        "outputId": "9129f3fe-151a-40a7-ec3e-05cbe8851483"
      },
      "execution_count": 37,
      "outputs": [
        {
          "output_type": "execute_result",
          "data": {
            "text/plain": [
              "['README.md',\n",
              " 'anscombe.json',\n",
              " 'file.txt',\n",
              " 'arquivo.txt',\n",
              " 'sigmoidal.txt',\n",
              " '.ipynb_checkpoints',\n",
              " 'mnist_train_small.csv',\n",
              " 'mnist_test.csv',\n",
              " 'california_housing_test.csv',\n",
              " 'california_housing_train.csv']"
            ]
          },
          "metadata": {},
          "execution_count": 37
        }
      ]
    },
    {
      "cell_type": "code",
      "source": [],
      "metadata": {
        "id": "11gRWSMrVZ-N"
      },
      "execution_count": null,
      "outputs": []
    }
  ]
}